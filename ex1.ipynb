{
 "cells": [
  {
   "cell_type": "markdown",
   "metadata": {
    "deletable": false,
    "editable": false
   },
   "source": [
    "# Fast Python\n",
    "\n",
    "> Exercise 1\n",
    "\n",
    "Kuo, Yao-Jen <yaojenkuo@datainpoint.com> from [DATAINPOINT](https://www.datainpoint.com)"
   ]
  },
  {
   "cell_type": "markdown",
   "metadata": {},
   "source": [
    "## Define a function named `ten_times_lucky` that is able to multiply 10 with the lucky number on user's inputs.\n",
    "\n",
    "- Expected inputs: a numeric.\n",
    "- Expected outputs: a numeric."
   ]
  },
  {
   "cell_type": "code",
   "execution_count": 1,
   "metadata": {},
   "outputs": [],
   "source": [
    "def ten_times_lucky(x):\n",
    "    \"\"\"\n",
    "    >>> ten_times_lucky(5566)\n",
    "    55660\n",
    "    >>> ten_times_lucky(556.6)\n",
    "    5566.0\n",
    "    >>> ten_times_lucky(24)\n",
    "    240\n",
    "    >>> ten_times_lucky(2.4)\n",
    "    24.0\n",
    "    \"\"\"\n",
    "    ### BEGIN SOLUTION\n",
    "    ### END SOLUTION"
   ]
  },
  {
   "cell_type": "markdown",
   "metadata": {},
   "source": [
    "## Define a function named `what_ross_said` that is able to return what Ross said in \"The One Where Emma Cries\", Season 9, episode 2, Friends.\n",
    "\n",
    "```\n",
    "Okay let’s put aside that you \"accidentally\" picked up my grandmothers ring and you \"accidentally\" proposed to Rachel.\n",
    "```\n",
    "\n",
    "- Expected inputs: None.\n",
    "- Expected outputs: a str."
   ]
  },
  {
   "cell_type": "code",
   "execution_count": 2,
   "metadata": {},
   "outputs": [],
   "source": [
    "def what_ross_said():\n",
    "    \"\"\"\n",
    "    \"\"\"\n",
    "    ### BEGIN SOLUTION\n",
    "    ### END SOLUTION"
   ]
  },
  {
   "cell_type": "markdown",
   "metadata": {},
   "source": [
    "## Define a function named `absolute` that is able to convert a negative number to a positive number and remains positive given user's input.\n",
    "\n",
    "- Expected inputs: a numeric.\n",
    "- Expected outputs: a numeric."
   ]
  },
  {
   "cell_type": "code",
   "execution_count": 3,
   "metadata": {},
   "outputs": [],
   "source": [
    "def absolute(x):\n",
    "    \"\"\"\n",
    "    >>> absolute(5566)\n",
    "    5566\n",
    "    >>> absolute(0)\n",
    "    0\n",
    "    >>> absolute(-5566)\n",
    "    5566\n",
    "    >>> absolute(-0.1)\n",
    "    0.1\n",
    "    \"\"\"\n",
    "    ### BEGIN SOLUTION\n",
    "    ### END SOLUTION"
   ]
  },
  {
   "cell_type": "markdown",
   "metadata": {},
   "source": [
    "## Define a function named `hi_recipient` that is able to return a greeting given recipient's gender and last name.\n",
    "\n",
    "- Expected inputs: 2 strings.\n",
    "- Expected outputs: a string."
   ]
  },
  {
   "cell_type": "code",
   "execution_count": 4,
   "metadata": {},
   "outputs": [],
   "source": [
    "def hi_recipient(gender, last_name):\n",
    "    \"\"\"\n",
    "    >>> hi_recipient(\"Male\", \"Chen\")\n",
    "    'Hi Mr. Chen,'\n",
    "    >>> hi_recipient(\"Female\", \"Chen\")\n",
    "    'Hi Ms. Chen,'\n",
    "    >>> hi_recipient(\"Male\", \"Lin\")\n",
    "    'Hi Mr. Lin,'\n",
    "    >>> hi_recipient(\"Female\", \"Lin\")\n",
    "    'Hi Ms. Lin,'\n",
    "    \"\"\"\n",
    "    ### BEGIN SOLUTION\n",
    "    ### END SOLUTION"
   ]
  },
  {
   "cell_type": "markdown",
   "metadata": {},
   "source": [
    "## Define a function named `categorize_bmi` that is able to return a BMI category given input's height and weight.\n",
    "\n",
    "\\begin{equation}\n",
    "BMI = \\frac{weight_{kg}}{height_{m}^2}\n",
    "\\end{equation}\n",
    "\n",
    "BMI category: <https://en.wikipedia.org/wiki/Body_mass_index#/media/File:BMI_chart.svg>\n",
    "\n",
    "- Expected inputs: 2 numerics.\n",
    "- Expected outputs: a string."
   ]
  },
  {
   "cell_type": "code",
   "execution_count": 5,
   "metadata": {},
   "outputs": [],
   "source": [
    "def categorize_bmi(height, weight):\n",
    "    \"\"\"\n",
    "    >>> categorize_bmi(198, 129) # Zion Williamson\n",
    "    '身高 198 公分體重 129 公斤是 Obese'\n",
    "    >>> categorize_bmi(206, 113) # LeBron James\n",
    "    '身高 206 公分體重 113 公斤是 Overweight'\n",
    "    >>> categorize_bmi(198, 98)  # Michael Jordan\n",
    "    '身高 198 公分體重 98 公斤是 Normal weight'\n",
    "    >>> categorize_bmi(231, 91)  # Manute Bol\n",
    "    '身高 231 公分體重 91 公斤是 Underweight'\n",
    "    \"\"\"\n",
    "    ### BEGIN SOLUTION\n",
    "    ### END SOLUTION"
   ]
  },
  {
   "cell_type": "markdown",
   "metadata": {},
   "source": [
    "## Define a function named `get_zip_code` that is able to return zip code of Taipei City given town's name.\n",
    "\n",
    "- Expected inputs: a string.\n",
    "- Expected outputs: a integer."
   ]
  },
  {
   "cell_type": "code",
   "execution_count": 6,
   "metadata": {},
   "outputs": [],
   "source": [
    "def get_zip_code(town):\n",
    "    \"\"\"\n",
    "    >>> get_zip_code('中正區')\n",
    "    100\n",
    "    >>> get_zip_code('中山區')\n",
    "    104\n",
    "    >>> get_zip_code('大安區')\n",
    "    106\n",
    "    >>> get_zip_code('信義區')\n",
    "    110\n",
    "    >>> get_zip_code('北投區')\n",
    "    112\n",
    "    >>> get_zip_code('南港區')\n",
    "    115\n",
    "    \"\"\"\n",
    "    ### BEGIN SOLUTION\n",
    "    ### END SOLUTION"
   ]
  },
  {
   "cell_type": "markdown",
   "metadata": {},
   "source": [
    "## Define a function named `count_pos_and_neg` that is able to count how many positive numbers and negative numbers given a list full of positive and negative numbers.\n",
    "\n",
    "- Expected inputs: a list.\n",
    "- Expected outputs: a dict."
   ]
  },
  {
   "cell_type": "code",
   "execution_count": 7,
   "metadata": {},
   "outputs": [],
   "source": [
    "def count_pos_and_neg(x):\n",
    "    \"\"\"\n",
    "    >>> count_pos_and_neg([5, 5, 6, 6])\n",
    "    {'nPositives': 4, 'nNegatives': 0}\n",
    "    >>> count_pos_and_neg([-5, -5, -6, -6])\n",
    "    {'nPositives': 0, 'nNegatives': 4}\n",
    "    >>> count_pos_and_neg([5, -5, 6, -6])\n",
    "    {'nPositives': 2, 'nNegatives': 2}\n",
    "    >>> count_pos_and_neg(range(-5, 6))\n",
    "    {'nPositives': 6, 'nNegatives': 5}\n",
    "    \"\"\"\n",
    "    ### BEGIN SOLUTION\n",
    "    ### END SOLUTION"
   ]
  },
  {
   "cell_type": "markdown",
   "metadata": {
    "deletable": false,
    "editable": false
   },
   "source": [
    "## Run tests!\n",
    "\n",
    "Kernel > Restart & Run All."
   ]
  },
  {
   "cell_type": "code",
   "execution_count": 8,
   "metadata": {
    "deletable": false,
    "editable": false
   },
   "outputs": [
    {
     "name": "stderr",
     "output_type": "stream",
     "text": [
      "test_absolute (__main__.TestExercise1) ... FAIL\n",
      "test_categorize_bmi (__main__.TestExercise1) ... FAIL\n",
      "test_count_pos_and_neg (__main__.TestExercise1) ... FAIL\n",
      "test_get_zip_code (__main__.TestExercise1) ... FAIL\n",
      "test_hi_recipient (__main__.TestExercise1) ... FAIL\n",
      "test_ten_times_lucky (__main__.TestExercise1) ... FAIL\n",
      "test_what_ross_said (__main__.TestExercise1) ... FAIL\n",
      "\n",
      "======================================================================\n",
      "FAIL: test_absolute (__main__.TestExercise1)\n",
      "----------------------------------------------------------------------\n",
      "Traceback (most recent call last):\n",
      "  File \"<ipython-input-8-b8ab5a00764e>\", line 10, in test_absolute\n",
      "    self.assertEqual(absolute(5566), 5566)\n",
      "AssertionError: None != 5566\n",
      "\n",
      "======================================================================\n",
      "FAIL: test_categorize_bmi (__main__.TestExercise1)\n",
      "----------------------------------------------------------------------\n",
      "Traceback (most recent call last):\n",
      "  File \"<ipython-input-8-b8ab5a00764e>\", line 24, in test_categorize_bmi\n",
      "    self.assertEqual(categorize_bmi(198, 129), '身高 198 公分體重 129 公斤是 Obese')\n",
      "AssertionError: None != '身高 198 公分體重 129 公斤是 Obese'\n",
      "\n",
      "======================================================================\n",
      "FAIL: test_count_pos_and_neg (__main__.TestExercise1)\n",
      "----------------------------------------------------------------------\n",
      "Traceback (most recent call last):\n",
      "  File \"<ipython-input-8-b8ab5a00764e>\", line 36, in test_count_pos_and_neg\n",
      "    self.assertEqual(count_pos_and_neg([5, 5, 6, 6]), {'nPositives': 4, 'nNegatives': 0})\n",
      "AssertionError: None != {'nPositives': 4, 'nNegatives': 0}\n",
      "\n",
      "======================================================================\n",
      "FAIL: test_get_zip_code (__main__.TestExercise1)\n",
      "----------------------------------------------------------------------\n",
      "Traceback (most recent call last):\n",
      "  File \"<ipython-input-8-b8ab5a00764e>\", line 29, in test_get_zip_code\n",
      "    self.assertEqual(get_zip_code('中正區'), 100)\n",
      "AssertionError: None != 100\n",
      "\n",
      "======================================================================\n",
      "FAIL: test_hi_recipient (__main__.TestExercise1)\n",
      "----------------------------------------------------------------------\n",
      "Traceback (most recent call last):\n",
      "  File \"<ipython-input-8-b8ab5a00764e>\", line 19, in test_hi_recipient\n",
      "    self.assertEqual(hi_recipient(\"Male\", \"Chen\"), 'Hi Mr. Chen,')\n",
      "AssertionError: None != 'Hi Mr. Chen,'\n",
      "\n",
      "======================================================================\n",
      "FAIL: test_ten_times_lucky (__main__.TestExercise1)\n",
      "----------------------------------------------------------------------\n",
      "Traceback (most recent call last):\n",
      "  File \"<ipython-input-8-b8ab5a00764e>\", line 5, in test_ten_times_lucky\n",
      "    self.assertEqual(ten_times_lucky(5566), 55660)\n",
      "AssertionError: None != 55660\n",
      "\n",
      "======================================================================\n",
      "FAIL: test_what_ross_said (__main__.TestExercise1)\n",
      "----------------------------------------------------------------------\n",
      "Traceback (most recent call last):\n",
      "  File \"<ipython-input-8-b8ab5a00764e>\", line 16, in test_what_ross_said\n",
      "    self.assertIsInstance(ross_said, str)\n",
      "AssertionError: None is not an instance of <class 'str'>\n",
      "\n",
      "----------------------------------------------------------------------\n",
      "Ran 7 tests in 0.021s\n",
      "\n",
      "FAILED (failures=7)\n"
     ]
    }
   ],
   "source": [
    "import unittest\n",
    "\n",
    "class TestExercise1(unittest.TestCase):\n",
    "    def test_ten_times_lucky(self):\n",
    "        self.assertEqual(ten_times_lucky(5566), 55660)\n",
    "        self.assertAlmostEqual(ten_times_lucky(556.6), 5566.0)\n",
    "        self.assertEqual(ten_times_lucky(24), 240)\n",
    "        self.assertAlmostEqual(ten_times_lucky(2.4), 24.0)\n",
    "    def test_absolute(self):\n",
    "        self.assertEqual(absolute(5566), 5566)\n",
    "        self.assertEqual(absolute(0), 0)\n",
    "        self.assertEqual(absolute(-5566), 5566)\n",
    "        self.assertAlmostEqual(absolute(-0.1), 0.1)\n",
    "    def test_what_ross_said(self):\n",
    "        ross_said = what_ross_said()\n",
    "        self.assertIsInstance(ross_said, str)\n",
    "        self.assertEqual(len(ross_said), 118)\n",
    "    def test_hi_recipient(self):\n",
    "        self.assertEqual(hi_recipient(\"Male\", \"Chen\"), 'Hi Mr. Chen,')\n",
    "        self.assertEqual(hi_recipient(\"Female\", \"Chen\"), 'Hi Ms. Chen,')\n",
    "        self.assertEqual(hi_recipient(\"Male\", \"Lin\"), 'Hi Mr. Lin,')\n",
    "        self.assertEqual(hi_recipient(\"Female\", \"Lin\"), 'Hi Ms. Lin,')\n",
    "    def test_categorize_bmi(self):\n",
    "        self.assertEqual(categorize_bmi(198, 129), '身高 198 公分體重 129 公斤是 Obese')\n",
    "        self.assertEqual(categorize_bmi(206, 113), '身高 206 公分體重 113 公斤是 Overweight')\n",
    "        self.assertEqual(categorize_bmi(198, 98), '身高 198 公分體重 98 公斤是 Normal weight')\n",
    "        self.assertEqual(categorize_bmi(231, 91), '身高 231 公分體重 91 公斤是 Underweight')\n",
    "    def test_get_zip_code(self):\n",
    "        self.assertEqual(get_zip_code('中正區'), 100)\n",
    "        self.assertEqual(get_zip_code('中山區'), 104)\n",
    "        self.assertEqual(get_zip_code('大安區'), 106)\n",
    "        self.assertEqual(get_zip_code('信義區'), 110)\n",
    "        self.assertEqual(get_zip_code('北投區'), 112)\n",
    "        self.assertEqual(get_zip_code('南港區'), 115)\n",
    "    def test_count_pos_and_neg(self):\n",
    "        self.assertEqual(count_pos_and_neg([5, 5, 6, 6]), {'nPositives': 4, 'nNegatives': 0})\n",
    "        self.assertEqual(count_pos_and_neg([-5, -5, -6, -6]), {'nPositives': 0, 'nNegatives': 4})\n",
    "        self.assertEqual(count_pos_and_neg([5, -5, 6, -6]), {'nPositives': 2, 'nNegatives': 2})\n",
    "        self.assertEqual(count_pos_and_neg(range(-5, 6)), {'nPositives': 6, 'nNegatives': 5})\n",
    "        \n",
    "suite = unittest.TestLoader().loadTestsFromTestCase(TestExercise1)\n",
    "runner = unittest.TextTestRunner(verbosity=2)\n",
    "test_results = runner.run(suite)\n",
    "number_of_failures = len(test_results.failures)\n",
    "number_of_errors = len(test_results.errors)\n",
    "number_of_test_runs = test_results.testsRun\n",
    "number_of_successes = number_of_test_runs - (number_of_failures + number_of_errors)"
   ]
  },
  {
   "cell_type": "code",
   "execution_count": 9,
   "metadata": {
    "deletable": false,
    "editable": false
   },
   "outputs": [
    {
     "name": "stdout",
     "output_type": "stream",
     "text": [
      "You've got 0 successes out of 7 tests.\n"
     ]
    }
   ],
   "source": [
    "print(\"You've got {} successes out of {} tests.\".format(number_of_successes, number_of_test_runs))"
   ]
  }
 ],
 "metadata": {
  "kernelspec": {
   "display_name": "Python Data Analysis",
   "language": "python",
   "name": "pyda"
  },
  "language_info": {
   "codemirror_mode": {
    "name": "ipython",
    "version": 3
   },
   "file_extension": ".py",
   "mimetype": "text/x-python",
   "name": "python",
   "nbconvert_exporter": "python",
   "pygments_lexer": "ipython3",
   "version": "3.6.8"
  }
 },
 "nbformat": 4,
 "nbformat_minor": 4
}
