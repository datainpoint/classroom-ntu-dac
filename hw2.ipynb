{
 "cells": [
  {
   "cell_type": "markdown",
   "metadata": {
    "deletable": false,
    "editable": false
   },
   "source": [
    "# Fast Python\n",
    "\n",
    "> Homework 2\n",
    "\n",
    "Kuo, Yao-Jen <yaojenkuo@datainpoint.com> from [DATAINPOINT](https://www.datainpoint.com)"
   ]
  },
  {
   "cell_type": "markdown",
   "metadata": {},
   "source": [
    "## Define a function named `list_aggregator` that is able to aggregate given list with a specific math operation.\n",
    "\n",
    "- Expected inputs: a list and a string.\n",
    "- Expected outputs: a numeric."
   ]
  },
  {
   "cell_type": "code",
   "execution_count": 1,
   "metadata": {},
   "outputs": [],
   "source": [
    "def list_aggregator(a_list, operation):\n",
    "    \"\"\"\n",
    "    >>> list_aggregator([5, 5, 6, 6], 'add')\n",
    "    22\n",
    "    >>> list_aggregator([5, 5, 6, 6], 'multiply')\n",
    "    900\n",
    "    >>> list_aggregator([5, -5, 6, -6], 'add')\n",
    "    0\n",
    "    >>> list_aggregator([5, -5, 6, -6], 'multiply')\n",
    "    900\n",
    "    >>> list_aggregator([-5, -5, -6, -6], 'add')\n",
    "    -22\n",
    "    >>> list_aggregator([-5, -5, -6, 6], 'multiply')\n",
    "    -900\n",
    "    \"\"\"\n",
    "    ### BEGIN SOLUTION\n",
    "    ### END SOLUTION"
   ]
  },
  {
   "cell_type": "markdown",
   "metadata": {},
   "source": [
    "## Define a function named `mean_squared_error` that is able to calculate the mean squared error between two lists: $\\hat{y_i}$ and $y_i$\n",
    "\n",
    "\\begin{equation}\n",
    "\\text{Mean Squared Error} = \\frac{1}{n}\\sum_{i=1}^n{(\\hat{y_i} - y_i)^2}\n",
    "\\end{equation}\n",
    "\n",
    "- Expected inputs: 2 lists of numeric.\n",
    "- Expected outputs: a numeric."
   ]
  },
  {
   "cell_type": "code",
   "execution_count": 2,
   "metadata": {},
   "outputs": [],
   "source": [
    "def mean_squared_error(y_hat, y):\n",
    "    \"\"\"\n",
    "    >>> mean_squared_error([1, 2, 3, 4, 5], [1, 2, 3, 4, 5])\n",
    "    0.0\n",
    "    >>> mean_squared_error([1, 2, 3, 4, 5], [1, 3, 5, 7, 9])\n",
    "    6.0\n",
    "    >>> mean_squared_error([1, 2, 3, 4, 5], [2, 4, 6, 8, 10])\n",
    "    11.0\n",
    "    >>> mean_squared_error([1, 2, 3, 4, 5], [-1, -2, -3, -4, -5])\n",
    "    44.0\n",
    "    >>> mean_squared_error([1, 2, 3, 4, 5], [1, 1, 1, 1, 1])\n",
    "    6.0\n",
    "    \"\"\"\n",
    "    ### BEGIN SOLUTION\n",
    "    ### END SOLUTION"
   ]
  },
  {
   "cell_type": "markdown",
   "metadata": {},
   "source": [
    "## Define a class named `CircleCalculator` with 3 methods: `get_diameter`, `get_perimeter`, and `get_area` that is able to return the diameter, perimeter, and area given a radius(`r`).\n",
    "\n",
    "\\begin{align}\n",
    "\\text{diameter} = 2r \\\\\n",
    "\\text{perimeter} = 2 \\pi r \\\\\n",
    "\\text{area} = \\pi r^2\n",
    "\\end{align}\n",
    "\n",
    "PS Use $\\pi = 3.14159$\n",
    "\n",
    "- Expected inputs: a numeric `r`\n",
    "- Expected outputs: a numeric"
   ]
  },
  {
   "cell_type": "code",
   "execution_count": 3,
   "metadata": {},
   "outputs": [],
   "source": [
    "class CircleCalculator:\n",
    "    \"\"\"\n",
    "    >>> cc = CircleCalculator(4)\n",
    "    >>> cc.get_diameter()\n",
    "    8\n",
    "    >>> cc.get_perimeter()\n",
    "    25.13272\n",
    "    >>> cc.get_area()\n",
    "    50.26544\n",
    "    >>> cc = CircleCalculator(5)\n",
    "    >>> cc.get_diameter()\n",
    "    10\n",
    "    >>> cc.get_perimeter()\n",
    "    31.4159\n",
    "    >>> cc.get_area()\n",
    "    78.53975\n",
    "    \"\"\"\n",
    "    ### BEGIN SOLUTION\n",
    "    ### END SOLUTION"
   ]
  },
  {
   "cell_type": "markdown",
   "metadata": {},
   "source": [
    "## Define a class named `Aggregator` with 2 methods: `summation` and `product`. The `summation` method is able to return the sum of `*args`, while `product` method is able to return the multiplication of `*args`.\n",
    "\n",
    "- Expected inputs：`*args`\n",
    "- Expected outputs：a numeric"
   ]
  },
  {
   "cell_type": "code",
   "execution_count": 4,
   "metadata": {},
   "outputs": [],
   "source": [
    "class Aggregator:\n",
    "    \"\"\"\n",
    "    >>> agg = Aggregator()\n",
    "    >>> agg.summation(5, 6)\n",
    "    11\n",
    "    >>> agg.product(5, 5, 6, 6)\n",
    "    900\n",
    "    >>> agg.summation(7, 7, 8, 8)\n",
    "    30\n",
    "    >>> agg.product(7, 8)\n",
    "    56\n",
    "    \"\"\"\n",
    "    ### BEGIN SOLUTION\n",
    "    ### END SOLUTION"
   ]
  },
  {
   "cell_type": "markdown",
   "metadata": {},
   "source": [
    "## Define a class named `NewAggregator` inherited from previously defined `Aggregator`, which adds 2 more methods `length` and `mean`\n",
    "\n",
    "- Expected inputs：`*args`\n",
    "- Expected outputs：a numeric"
   ]
  },
  {
   "cell_type": "code",
   "execution_count": 5,
   "metadata": {},
   "outputs": [],
   "source": [
    "class NewAggregator(Aggregator):\n",
    "    \"\"\"\n",
    "    >>> new_agg = NewAggregator()\n",
    "    >>> new_agg.summation(5, 6)\n",
    "    11\n",
    "    >>> new_agg.product(5, 5, 6, 6)\n",
    "    900\n",
    "    >>> new_agg.summation(7, 7, 8, 8)\n",
    "    30\n",
    "    >>> new_agg.product(7, 8)\n",
    "    56\n",
    "    >>> new_agg.length(5, 6)\n",
    "    2\n",
    "    >>> new_agg.mean(5, 5, 6, 6)\n",
    "    5.5\n",
    "    \"\"\"\n",
    "    ### BEGIN SOLUTION\n",
    "    ### END SOLUTION"
   ]
  },
  {
   "cell_type": "markdown",
   "metadata": {},
   "source": [
    "## Define a class named `CheckPrime` with 2 methods `get_factors` and `is_prime`. The `get_factors` method is able to return the divisors of a given integer, while the `is_prime` method is able to return if a given integer is a prime or not.\n",
    "\n",
    "- Expected inputs：an integer\n",
    "- Expected outputs：a set / a boolean"
   ]
  },
  {
   "cell_type": "code",
   "execution_count": 6,
   "metadata": {},
   "outputs": [],
   "source": [
    "class CheckPrime:\n",
    "    \"\"\"\n",
    "    >>> check_prime = CheckPrime()\n",
    "    >>> check_prime.get_factors(1)\n",
    "    {1}\n",
    "    >>> check_prime.is_prime(1)\n",
    "    False\n",
    "    >>> check_prime = CheckPrime()\n",
    "    >>> check_prime.get_factors(2)\n",
    "    {1, 2}\n",
    "    >>> check_prime.is_prime(2)\n",
    "    True\n",
    "    >>> check_prime = CheckPrime()\n",
    "    >>> check_prime.get_factors(3)\n",
    "    {1, 3}\n",
    "    >>> check_prime.is_prime(3)\n",
    "    True\n",
    "    >>> check_prime = CheckPrime()\n",
    "    >>> check_prime.get_factors(4)\n",
    "    {1, 2, 4}\n",
    "    >>> check_prime.is_prime(4)\n",
    "    False\n",
    "    \"\"\"\n",
    "    ### BEGIN SOLUTION\n",
    "    ### END SOLUTION"
   ]
  },
  {
   "cell_type": "markdown",
   "metadata": {},
   "source": [
    "## Define a class `NewCheckPrime`  inherited from the previously defined `CheckPrime` class. Add an additional method `find_primes(a, b)` that is able to return the primes between `a` and `b`, where $a \\leq b$\n",
    "\n",
    "- Expected inputs：an integer\n",
    "- Expected outputs：a set / a boolean / a set"
   ]
  },
  {
   "cell_type": "code",
   "execution_count": 7,
   "metadata": {},
   "outputs": [],
   "source": [
    "class NewCheckPrime(CheckPrime):\n",
    "    \"\"\"\n",
    "    >>> new_check_prime = NewCheckPrime()\n",
    "    >>> new_check_prime.get_factors(4)\n",
    "    {1, 2, 4}\n",
    "    >>> new_check_prime.is_prime(4)\n",
    "    False\n",
    "    >>> new_check_prime.find_primes(1, 4)\n",
    "    {2, 3}\n",
    "    >>> new_check_prime = NewCheckPrime()\n",
    "    >>> new_check_prime.get_factors(5)\n",
    "    {1, 5}\n",
    "    >>> new_check_prime.is_prime(5)\n",
    "    True\n",
    "    >>> new_check_prime.find_primes(1, 5)\n",
    "    {2, 3, 5}\n",
    "    \"\"\"\n",
    "    ### BEGIN SOLUTION\n",
    "    ### END SOLUTION"
   ]
  },
  {
   "cell_type": "markdown",
   "metadata": {
    "deletable": false,
    "editable": false
   },
   "source": [
    "## Run tests!\n",
    "\n",
    "Kernel -> Restart & Run All."
   ]
  },
  {
   "cell_type": "code",
   "execution_count": 8,
   "metadata": {
    "deletable": false,
    "editable": false
   },
   "outputs": [
    {
     "name": "stderr",
     "output_type": "stream",
     "text": [
      "testAggregator (__main__.TestAdvancedTopicsInPython) ... ERROR\n",
      "testCheckPrime (__main__.TestAdvancedTopicsInPython) ... ERROR\n",
      "testCircleCalculator (__main__.TestAdvancedTopicsInPython) ... ERROR\n",
      "testNewAggregator (__main__.TestAdvancedTopicsInPython) ... ERROR\n",
      "testNewCheckPrime (__main__.TestAdvancedTopicsInPython) ... ERROR\n",
      "test_list_aggregator (__main__.TestAdvancedTopicsInPython) ... FAIL\n",
      "test_mean_squared_error (__main__.TestAdvancedTopicsInPython) ... ERROR\n",
      "\n",
      "======================================================================\n",
      "ERROR: testAggregator (__main__.TestAdvancedTopicsInPython)\n",
      "----------------------------------------------------------------------\n",
      "Traceback (most recent call last):\n",
      "  File \"<ipython-input-8-4e377f75bd09>\", line 30, in testAggregator\n",
      "    self.assertEqual(agg.summation(5, 6), 11)\n",
      "AttributeError: 'Aggregator' object has no attribute 'summation'\n",
      "\n",
      "======================================================================\n",
      "ERROR: testCheckPrime (__main__.TestAdvancedTopicsInPython)\n",
      "----------------------------------------------------------------------\n",
      "Traceback (most recent call last):\n",
      "  File \"<ipython-input-8-4e377f75bd09>\", line 44, in testCheckPrime\n",
      "    self.assertEqual(check_prime.get_factors(1), {1})\n",
      "AttributeError: 'CheckPrime' object has no attribute 'get_factors'\n",
      "\n",
      "======================================================================\n",
      "ERROR: testCircleCalculator (__main__.TestAdvancedTopicsInPython)\n",
      "----------------------------------------------------------------------\n",
      "Traceback (most recent call last):\n",
      "  File \"<ipython-input-8-4e377f75bd09>\", line 20, in testCircleCalculator\n",
      "    cc = CircleCalculator(4)\n",
      "TypeError: object() takes no parameters\n",
      "\n",
      "======================================================================\n",
      "ERROR: testNewAggregator (__main__.TestAdvancedTopicsInPython)\n",
      "----------------------------------------------------------------------\n",
      "Traceback (most recent call last):\n",
      "  File \"<ipython-input-8-4e377f75bd09>\", line 36, in testNewAggregator\n",
      "    self.assertEqual(new_agg.summation(5, 6), 11)\n",
      "AttributeError: 'NewAggregator' object has no attribute 'summation'\n",
      "\n",
      "======================================================================\n",
      "ERROR: testNewCheckPrime (__main__.TestAdvancedTopicsInPython)\n",
      "----------------------------------------------------------------------\n",
      "Traceback (most recent call last):\n",
      "  File \"<ipython-input-8-4e377f75bd09>\", line 57, in testNewCheckPrime\n",
      "    self.assertEqual(new_check_prime.get_factors(4), {1, 2, 4})\n",
      "AttributeError: 'NewCheckPrime' object has no attribute 'get_factors'\n",
      "\n",
      "======================================================================\n",
      "ERROR: test_mean_squared_error (__main__.TestAdvancedTopicsInPython)\n",
      "----------------------------------------------------------------------\n",
      "Traceback (most recent call last):\n",
      "  File \"<ipython-input-8-4e377f75bd09>\", line 12, in test_mean_squared_error\n",
      "    self.assertAlmostEqual(mean_squared_error([1, 2, 3, 4, 5], [1, 2, 3, 4, 5]), 0.0)\n",
      "  File \"/Library/Frameworks/Python.framework/Versions/3.6/lib/python3.6/unittest/case.py\", line 871, in assertAlmostEqual\n",
      "    if round(abs(second-first), places) == 0:\n",
      "TypeError: unsupported operand type(s) for -: 'float' and 'NoneType'\n",
      "\n",
      "======================================================================\n",
      "FAIL: test_list_aggregator (__main__.TestAdvancedTopicsInPython)\n",
      "----------------------------------------------------------------------\n",
      "Traceback (most recent call last):\n",
      "  File \"<ipython-input-8-4e377f75bd09>\", line 5, in test_list_aggregator\n",
      "    self.assertEqual(list_aggregator([5, 5, 6, 6], 'add'), 22)\n",
      "AssertionError: None != 22\n",
      "\n",
      "----------------------------------------------------------------------\n",
      "Ran 7 tests in 0.020s\n",
      "\n",
      "FAILED (failures=1, errors=6)\n"
     ]
    }
   ],
   "source": [
    "import unittest\n",
    "\n",
    "class TestAdvancedTopicsInPython(unittest.TestCase):\n",
    "    def test_list_aggregator(self):\n",
    "        self.assertEqual(list_aggregator([5, 5, 6, 6], 'add'), 22)\n",
    "        self.assertEqual(list_aggregator([5, 5, 6, 6], 'multiply'), 900)\n",
    "        self.assertEqual(list_aggregator([5, -5, 6, -6], 'add'), 0)\n",
    "        self.assertEqual(list_aggregator([5, -5, 6, -6], 'multiply'), 900)\n",
    "        self.assertEqual(list_aggregator([-5, -5, -6, -6], 'add'), -22)\n",
    "        self.assertEqual(list_aggregator([-5, -5, -6, 6], 'multiply'), -900)\n",
    "    def test_mean_squared_error(self):\n",
    "        self.assertAlmostEqual(mean_squared_error([1, 2, 3, 4, 5], [1, 2, 3, 4, 5]), 0.0)\n",
    "        self.assertAlmostEqual(mean_squared_error([1, 2, 3, 4, 5], [1, 3, 5, 7, 9]), 6.0)\n",
    "        self.assertAlmostEqual(mean_squared_error([1, 2, 3, 4, 5], [2, 4, 6, 8, 10]), 11.0)\n",
    "        self.assertAlmostEqual(mean_squared_error([1, 2, 3, 4, 5], [-1, -2, -3, -4, -5]), 44.0)\n",
    "        self.assertAlmostEqual(mean_squared_error([1, 2, 3, 4, 5], [1, 1, 1, 1, 1]), 6.0)\n",
    "        self.assertAlmostEqual(mean_squared_error([1, 2, 3, 4, 5], [2, 2, 2, 2, 2]), 3.0)\n",
    "        self.assertAlmostEqual(mean_squared_error([1, 2, 3, 4, 5], [5, 4, 3, 2, 1]), 8.0)\n",
    "    def testCircleCalculator(self):\n",
    "        cc = CircleCalculator(4)\n",
    "        self.assertEqual(cc.get_diameter(), 8)\n",
    "        self.assertAlmostEqual(cc.get_perimeter(), 25.13272)\n",
    "        self.assertAlmostEqual(cc.get_area(), 50.26544)\n",
    "        cc = CircleCalculator(5)\n",
    "        self.assertEqual(cc.get_diameter(), 10)\n",
    "        self.assertAlmostEqual(cc.get_perimeter(), 31.4159)\n",
    "        self.assertAlmostEqual(cc.get_area(), 78.53975)\n",
    "    def testAggregator(self):\n",
    "        agg = Aggregator()\n",
    "        self.assertEqual(agg.summation(5, 6), 11)\n",
    "        self.assertEqual(agg.product(5, 5, 6, 6), 900)\n",
    "        self.assertEqual(agg.summation(7, 7, 8, 8), 30)\n",
    "        self.assertEqual(agg.product(7, 8), 56)\n",
    "    def testNewAggregator(self):\n",
    "        new_agg = NewAggregator()\n",
    "        self.assertEqual(new_agg.summation(5, 6), 11)\n",
    "        self.assertEqual(new_agg.product(5, 5, 6, 6), 900)\n",
    "        self.assertEqual(new_agg.summation(7, 7, 8, 8), 30)\n",
    "        self.assertEqual(new_agg.product(7, 8), 56)\n",
    "        self.assertEqual(new_agg.length(5, 6), 2)\n",
    "        self.assertEqual(new_agg.mean(5, 5, 6, 6), 5.5)\n",
    "    def testCheckPrime(self):\n",
    "        check_prime = CheckPrime()\n",
    "        self.assertEqual(check_prime.get_factors(1), {1})\n",
    "        self.assertFalse(check_prime.is_prime(1))\n",
    "        check_prime = CheckPrime()\n",
    "        self.assertEqual(check_prime.get_factors(2), {1, 2})\n",
    "        self.assertTrue(check_prime.is_prime(2))\n",
    "        check_prime = CheckPrime()\n",
    "        self.assertEqual(check_prime.get_factors(3), {1, 3})\n",
    "        self.assertTrue(check_prime.is_prime(3), True)\n",
    "        check_prime = CheckPrime()\n",
    "        self.assertEqual(check_prime.get_factors(4), {1, 2, 4})\n",
    "        self.assertFalse(check_prime.is_prime(4))\n",
    "    def testNewCheckPrime(self):\n",
    "        new_check_prime = NewCheckPrime()\n",
    "        self.assertEqual(new_check_prime.get_factors(4), {1, 2, 4})\n",
    "        self.assertFalse(new_check_prime.is_prime(4), False)\n",
    "        self.assertEqual(new_check_prime.find_primes(1, 4), {2, 3})\n",
    "        new_check_prime = NewCheckPrime()\n",
    "        self.assertEqual(new_check_prime.get_factors(5), {1, 5})\n",
    "        self.assertTrue(new_check_prime.is_prime(5))\n",
    "        self.assertEqual(new_check_prime.find_primes(1, 5), {2, 3, 5})\n",
    "\n",
    "suite = unittest.TestLoader().loadTestsFromTestCase(TestAdvancedTopicsInPython)\n",
    "runner = unittest.TextTestRunner(verbosity=2)\n",
    "test_results = runner.run(suite)\n",
    "number_of_failures = len(test_results.failures)\n",
    "number_of_errors = len(test_results.errors)\n",
    "number_of_test_runs = test_results.testsRun\n",
    "number_of_successes = number_of_test_runs - (number_of_failures + number_of_errors)"
   ]
  },
  {
   "cell_type": "code",
   "execution_count": 9,
   "metadata": {
    "deletable": false,
    "editable": false
   },
   "outputs": [
    {
     "name": "stdout",
     "output_type": "stream",
     "text": [
      "You've got 0 successes out of 7 tests.\n"
     ]
    }
   ],
   "source": [
    "print(\"You've got {} successes out of {} tests.\".format(number_of_successes, number_of_test_runs))"
   ]
  }
 ],
 "metadata": {
  "celltoolbar": "Edit Metadata",
  "kernelspec": {
   "display_name": "Python 3",
   "language": "python",
   "name": "python3"
  },
  "language_info": {
   "codemirror_mode": {
    "name": "ipython",
    "version": 3
   },
   "file_extension": ".py",
   "mimetype": "text/x-python",
   "name": "python",
   "nbconvert_exporter": "python",
   "pygments_lexer": "ipython3",
   "version": "3.6.8"
  }
 },
 "nbformat": 4,
 "nbformat_minor": 4
}
