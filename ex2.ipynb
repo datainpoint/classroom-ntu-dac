{
 "cells": [
  {
   "cell_type": "markdown",
   "metadata": {
    "deletable": false,
    "editable": false
   },
   "source": [
    "# Fast Python\n",
    "\n",
    "> Exercise 2\n",
    "\n",
    "Kuo, Yao-Jen <yaojenkuo@datainpoint.com> from [DATAINPOINT](https://www.datainpoint.com)"
   ]
  },
  {
   "cell_type": "markdown",
   "metadata": {},
   "source": [
    "## Define a function named `args_product` that is able to aggregate given `*args` with product operation.\n",
    "\n",
    "- Expected inputs: an `*args`.\n",
    "- Expected outputs: a numeric."
   ]
  },
  {
   "cell_type": "code",
   "execution_count": 1,
   "metadata": {},
   "outputs": [],
   "source": [
    "def args_product(*args):\n",
    "    \"\"\"\n",
    "    >>> args_product(5, 5, 6, 6)\n",
    "    900\n",
    "    >>> args_product(5, -5, 6, -6)\n",
    "    900\n",
    "    >>> args_product(-5, -5, -6, 6)\n",
    "    -900\n",
    "    >>> args_product(5, 5, 6, 6, 0)\n",
    "    0\n",
    "    \"\"\"\n",
    "    ### BEGIN SOLUTION\n",
    "    ### END SOLUTION"
   ]
  },
  {
   "cell_type": "markdown",
   "metadata": {},
   "source": [
    "## Define a class named `Describe` that is able to aggregate a given `list` with `find_max`, `find_min`, `find_sum`, `find_length`, and `find_mean` methods.\n",
    "\n",
    "- Expected inputs: a `list`.\n",
    "- Expected outputs: a numeric."
   ]
  },
  {
   "cell_type": "code",
   "execution_count": 2,
   "metadata": {},
   "outputs": [],
   "source": [
    "class Describe:\n",
    "    \"\"\"\n",
    "    >>> desc = Describe([5, 5, 6, 6])\n",
    "    >>> desc.find_max()\n",
    "    6\n",
    "    >>> desc.find_min()\n",
    "    5\n",
    "    >>> desc.find_sum()\n",
    "    22\n",
    "    >>> desc.find_length()\n",
    "    4\n",
    "    >>> desc.find_mean()\n",
    "    5.5\n",
    "    \"\"\"\n",
    "    ### BEGIN SOLUTION\n",
    "    ### END SOLUTION"
   ]
  },
  {
   "cell_type": "markdown",
   "metadata": {},
   "source": [
    "## Define a class named `VowelCounter` that is able to count number of vowels of a given word with 2 methods: `get_vowel_count` and `get_vowel_count_each`\n",
    "\n",
    "- Expected inputs: a `str`.\n",
    "- Expected outputs: a numeric / a dict."
   ]
  },
  {
   "cell_type": "code",
   "execution_count": 3,
   "metadata": {},
   "outputs": [],
   "source": [
    "class VowelCounter:\n",
    "    \"\"\"\n",
    "    >>> vc = VowelCounter(\"Luke Skywalker\")\n",
    "    >>> vc.get_vowel_count()\n",
    "    4\n",
    "    >>> vc.get_vowel_count_each()\n",
    "    {'a': 1, 'e': 2, 'i': 0, 'o': 0, 'u': 1}\n",
    "    >>> vc = VowelCounter(\"Anakin Skywalker\")\n",
    "    >>> vc.get_vowel_count()\n",
    "    5\n",
    "    >>> vc.get_vowel_count_each()\n",
    "    {'a': 3, 'e': 1, 'i': 1, 'o': 0, 'u': 0}\n",
    "    >>> vc = VowelCounter(\"Darth Vadar\")\n",
    "    >>> vc.get_vowel_count()\n",
    "    3\n",
    "    >>> vc.get_vowel_count_each()\n",
    "    {'a': 3, 'e': 0, 'i': 0, 'o': 0, 'u': 0}\n",
    "    \"\"\"\n",
    "    ### BEGIN SOLUTION\n",
    "    ### END SOLUTION"
   ]
  },
  {
   "cell_type": "markdown",
   "metadata": {
    "deletable": false,
    "editable": false
   },
   "source": [
    "## Run tests!\n",
    "\n",
    "Kernel > Restart & Run All."
   ]
  },
  {
   "cell_type": "code",
   "execution_count": 4,
   "metadata": {
    "deletable": false,
    "editable": false
   },
   "outputs": [
    {
     "name": "stderr",
     "output_type": "stream",
     "text": [
      "test_args_product (__main__.TestExercise1) ... FAIL\n",
      "test_describe (__main__.TestExercise1) ... ERROR\n",
      "test_vowel_counter (__main__.TestExercise1) ... ERROR\n",
      "\n",
      "======================================================================\n",
      "ERROR: test_describe (__main__.TestExercise1)\n",
      "----------------------------------------------------------------------\n",
      "Traceback (most recent call last):\n",
      "  File \"<ipython-input-4-40242cc139bc>\", line 10, in test_describe\n",
      "    desc = Describe([5, 5, 6, 6])\n",
      "TypeError: object() takes no parameters\n",
      "\n",
      "======================================================================\n",
      "ERROR: test_vowel_counter (__main__.TestExercise1)\n",
      "----------------------------------------------------------------------\n",
      "Traceback (most recent call last):\n",
      "  File \"<ipython-input-4-40242cc139bc>\", line 17, in test_vowel_counter\n",
      "    vc = VowelCounter(\"Luke Skywalker\")\n",
      "TypeError: object() takes no parameters\n",
      "\n",
      "======================================================================\n",
      "FAIL: test_args_product (__main__.TestExercise1)\n",
      "----------------------------------------------------------------------\n",
      "Traceback (most recent call last):\n",
      "  File \"<ipython-input-4-40242cc139bc>\", line 5, in test_args_product\n",
      "    self.assertEqual(args_product(5, 5, 6, 6), 900)\n",
      "AssertionError: None != 900\n",
      "\n",
      "----------------------------------------------------------------------\n",
      "Ran 3 tests in 0.010s\n",
      "\n",
      "FAILED (failures=1, errors=2)\n"
     ]
    }
   ],
   "source": [
    "import unittest\n",
    "\n",
    "class TestExercise1(unittest.TestCase):\n",
    "    def test_args_product(self):\n",
    "        self.assertEqual(args_product(5, 5, 6, 6), 900)\n",
    "        self.assertEqual(args_product(5, -5, 6, -6), 900)\n",
    "        self.assertEqual(args_product(-5, -5, -6, 6), -900)\n",
    "        self.assertEqual(args_product(5, 5, 6, 6, 0), 0)\n",
    "    def test_describe(self):\n",
    "        desc = Describe([5, 5, 6, 6])\n",
    "        self.assertEqual(desc.find_max(), 6)\n",
    "        self.assertEqual(desc.find_min(), 5)\n",
    "        self.assertEqual(desc.find_sum(), 22)\n",
    "        self.assertEqual(desc.find_length(), 4)\n",
    "        self.assertEqual(desc.find_mean(), 5.5)\n",
    "    def test_vowel_counter(self):\n",
    "        vc = VowelCounter(\"Luke Skywalker\")\n",
    "        self.assertEqual(vc.get_vowel_count(), 4)\n",
    "        self.assertEqual(vc.get_vowel_count_each(), {'a': 1, 'e': 2, 'i': 0, 'o': 0, 'u': 1})\n",
    "        vc = VowelCounter(\"Anakin Skywalker\")\n",
    "        self.assertEqual(vc.get_vowel_count(), 5)\n",
    "        self.assertEqual(vc.get_vowel_count_each(), {'a': 3, 'e': 1, 'i': 1, 'o': 0, 'u': 0})\n",
    "        vc = VowelCounter(\"Darth Vadar\")\n",
    "        self.assertEqual(vc.get_vowel_count(), 3)\n",
    "        self.assertEqual(vc.get_vowel_count_each(), {'a': 3, 'e': 0, 'i': 0, 'o': 0, 'u': 0})\n",
    "\n",
    "suite = unittest.TestLoader().loadTestsFromTestCase(TestExercise1)\n",
    "runner = unittest.TextTestRunner(verbosity=2)\n",
    "test_results = runner.run(suite)\n",
    "number_of_failures = len(test_results.failures)\n",
    "number_of_errors = len(test_results.errors)\n",
    "number_of_test_runs = test_results.testsRun\n",
    "number_of_successes = number_of_test_runs - (number_of_failures + number_of_errors)"
   ]
  },
  {
   "cell_type": "code",
   "execution_count": 5,
   "metadata": {
    "deletable": false,
    "editable": false
   },
   "outputs": [
    {
     "name": "stdout",
     "output_type": "stream",
     "text": [
      "You've got 0 successes out of 3 tests.\n"
     ]
    }
   ],
   "source": [
    "print(\"You've got {} successes out of {} tests.\".format(number_of_successes, number_of_test_runs))"
   ]
  }
 ],
 "metadata": {
  "kernelspec": {
   "display_name": "Python Data Analysis",
   "language": "python",
   "name": "pyda"
  },
  "language_info": {
   "codemirror_mode": {
    "name": "ipython",
    "version": 3
   },
   "file_extension": ".py",
   "mimetype": "text/x-python",
   "name": "python",
   "nbconvert_exporter": "python",
   "pygments_lexer": "ipython3",
   "version": "3.6.8"
  }
 },
 "nbformat": 4,
 "nbformat_minor": 4
}
